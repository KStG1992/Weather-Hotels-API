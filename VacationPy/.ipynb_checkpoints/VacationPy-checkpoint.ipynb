{
 "cells": [
  {
   "cell_type": "markdown",
   "metadata": {},
   "source": [
    "# VacationPy\n",
    "----\n",
    "\n",
    "#### Note\n",
    "* Keep an eye on your API usage. Use https://developers.google.com/maps/reporting/gmp-reporting as reference for how to monitor your usage and billing.\n",
    "\n",
    "* Instructions have been included for each segment. You do not have to follow them exactly, but they are included to help you think through the steps."
   ]
  },
  {
   "cell_type": "code",
   "execution_count": 1,
   "metadata": {},
   "outputs": [],
   "source": [
    "# Dependencies and Setup\n",
    "import matplotlib.pyplot as plt\n",
    "import pandas as pd\n",
    "import numpy as np\n",
    "import requests\n",
    "import json\n",
    "import gmaps\n",
    "import os\n",
    "\n",
    "# Import API key\n",
    "from api_keys import g_key"
   ]
  },
  {
   "cell_type": "markdown",
   "metadata": {},
   "source": [
    "### Store Part I results into DataFrame\n",
    "* Load the csv exported in Part I to a DataFrame"
   ]
  },
  {
   "cell_type": "code",
   "execution_count": 2,
   "metadata": {},
   "outputs": [
    {
     "data": {
      "text/html": [
       "<div>\n",
       "<style scoped>\n",
       "    .dataframe tbody tr th:only-of-type {\n",
       "        vertical-align: middle;\n",
       "    }\n",
       "\n",
       "    .dataframe tbody tr th {\n",
       "        vertical-align: top;\n",
       "    }\n",
       "\n",
       "    .dataframe thead th {\n",
       "        text-align: right;\n",
       "    }\n",
       "</style>\n",
       "<table border=\"1\" class=\"dataframe\">\n",
       "  <thead>\n",
       "    <tr style=\"text-align: right;\">\n",
       "      <th></th>\n",
       "      <th>City</th>\n",
       "      <th>Lat</th>\n",
       "      <th>Lng</th>\n",
       "      <th>Max Temp</th>\n",
       "      <th>Humidity</th>\n",
       "      <th>Cloudiness</th>\n",
       "      <th>Wind Speed</th>\n",
       "      <th>Country</th>\n",
       "      <th>Date</th>\n",
       "    </tr>\n",
       "  </thead>\n",
       "  <tbody>\n",
       "    <tr>\n",
       "      <th>0</th>\n",
       "      <td>chuy</td>\n",
       "      <td>-33.70</td>\n",
       "      <td>-53.46</td>\n",
       "      <td>84.56</td>\n",
       "      <td>44</td>\n",
       "      <td>0</td>\n",
       "      <td>7.65</td>\n",
       "      <td>UY</td>\n",
       "      <td>1607618582</td>\n",
       "    </tr>\n",
       "    <tr>\n",
       "      <th>1</th>\n",
       "      <td>tezu</td>\n",
       "      <td>27.92</td>\n",
       "      <td>96.17</td>\n",
       "      <td>65.07</td>\n",
       "      <td>47</td>\n",
       "      <td>71</td>\n",
       "      <td>2.93</td>\n",
       "      <td>IN</td>\n",
       "      <td>1607618582</td>\n",
       "    </tr>\n",
       "    <tr>\n",
       "      <th>2</th>\n",
       "      <td>kaitangata</td>\n",
       "      <td>-46.28</td>\n",
       "      <td>169.85</td>\n",
       "      <td>46.99</td>\n",
       "      <td>94</td>\n",
       "      <td>100</td>\n",
       "      <td>11.01</td>\n",
       "      <td>NZ</td>\n",
       "      <td>1607618583</td>\n",
       "    </tr>\n",
       "    <tr>\n",
       "      <th>3</th>\n",
       "      <td>surt</td>\n",
       "      <td>31.21</td>\n",
       "      <td>16.59</td>\n",
       "      <td>61.18</td>\n",
       "      <td>34</td>\n",
       "      <td>0</td>\n",
       "      <td>9.89</td>\n",
       "      <td>LY</td>\n",
       "      <td>1607618583</td>\n",
       "    </tr>\n",
       "    <tr>\n",
       "      <th>4</th>\n",
       "      <td>kapaa</td>\n",
       "      <td>22.08</td>\n",
       "      <td>-159.32</td>\n",
       "      <td>71.60</td>\n",
       "      <td>100</td>\n",
       "      <td>90</td>\n",
       "      <td>5.82</td>\n",
       "      <td>US</td>\n",
       "      <td>1607618583</td>\n",
       "    </tr>\n",
       "  </tbody>\n",
       "</table>\n",
       "</div>"
      ],
      "text/plain": [
       "         City    Lat     Lng  Max Temp  Humidity  Cloudiness  Wind Speed  \\\n",
       "0        chuy -33.70  -53.46     84.56        44           0        7.65   \n",
       "1        tezu  27.92   96.17     65.07        47          71        2.93   \n",
       "2  kaitangata -46.28  169.85     46.99        94         100       11.01   \n",
       "3        surt  31.21   16.59     61.18        34           0        9.89   \n",
       "4       kapaa  22.08 -159.32     71.60       100          90        5.82   \n",
       "\n",
       "  Country        Date  \n",
       "0      UY  1607618582  \n",
       "1      IN  1607618582  \n",
       "2      NZ  1607618583  \n",
       "3      LY  1607618583  \n",
       "4      US  1607618583  "
      ]
     },
     "execution_count": 2,
     "metadata": {},
     "output_type": "execute_result"
    }
   ],
   "source": [
    "# Loading in CSV\n",
    "filepath = '../output_data/cities.csv'\n",
    "f = pd.read_csv(filepath)\n",
    "df = pd.DataFrame(f)\n",
    "df = df.drop(columns=['Unnamed: 0'])\n",
    "\n",
    "df.head()"
   ]
  },
  {
   "cell_type": "markdown",
   "metadata": {},
   "source": [
    "### Humidity Heatmap\n",
    "* Configure gmaps.\n",
    "* Use the Lat and Lng as locations and Humidity as the weight.\n",
    "* Add Heatmap layer to map."
   ]
  },
  {
   "cell_type": "code",
   "execution_count": 3,
   "metadata": {},
   "outputs": [
    {
     "data": {
      "application/vnd.jupyter.widget-view+json": {
       "model_id": "e5653e53e623498aa9fa109e227272a4",
       "version_major": 2,
       "version_minor": 0
      },
      "text/plain": [
       "Figure(layout=FigureLayout(height='420px'))"
      ]
     },
     "metadata": {},
     "output_type": "display_data"
    }
   ],
   "source": [
    "# Configuring gmaps\n",
    "gmaps.configure(api_key=g_key)\n",
    "\n",
    "# Creating HeatMap Using Coordinates and Humidity\n",
    "locations = df[[\"Lat\", \"Lng\"]].astype(float)\n",
    "humidity_map = df[\"Humidity\"].astype(float)\n",
    "\n",
    "# Plotting HeatMap\n",
    "fig = gmaps.figure()\n",
    "\n",
    "# Creating Heat Layer\n",
    "heat_layer = gmaps.heatmap_layer(locations, weights=humidity_map, \n",
    "                                 dissipating=False, max_intensity=100,\n",
    "                                 point_radius = 2)\n",
    "\n",
    "# Add Layer\n",
    "fig.add_layer(heat_layer)\n",
    "\n",
    "# Display Figure\n",
    "fig"
   ]
  },
  {
   "cell_type": "code",
   "execution_count": null,
   "metadata": {},
   "outputs": [],
   "source": []
  },
  {
   "cell_type": "markdown",
   "metadata": {},
   "source": [
    "### Create new DataFrame fitting weather criteria\n",
    "* Narrow down the cities to fit weather conditions.\n",
    "* Drop any rows will null values."
   ]
  },
  {
   "cell_type": "code",
   "execution_count": 4,
   "metadata": {
    "scrolled": true
   },
   "outputs": [
    {
     "data": {
      "text/html": [
       "<div>\n",
       "<style scoped>\n",
       "    .dataframe tbody tr th:only-of-type {\n",
       "        vertical-align: middle;\n",
       "    }\n",
       "\n",
       "    .dataframe tbody tr th {\n",
       "        vertical-align: top;\n",
       "    }\n",
       "\n",
       "    .dataframe thead th {\n",
       "        text-align: right;\n",
       "    }\n",
       "</style>\n",
       "<table border=\"1\" class=\"dataframe\">\n",
       "  <thead>\n",
       "    <tr style=\"text-align: right;\">\n",
       "      <th></th>\n",
       "      <th>City</th>\n",
       "      <th>Country</th>\n",
       "      <th>Lat</th>\n",
       "      <th>Lng</th>\n",
       "      <th>Max Temp</th>\n",
       "      <th>Wind Speed</th>\n",
       "      <th>Cloudiness</th>\n",
       "    </tr>\n",
       "  </thead>\n",
       "  <tbody>\n",
       "    <tr>\n",
       "      <th>0</th>\n",
       "      <td>jerez</td>\n",
       "      <td>GT</td>\n",
       "      <td>14.10</td>\n",
       "      <td>-89.75</td>\n",
       "      <td>77.00</td>\n",
       "      <td>3.36</td>\n",
       "      <td>0</td>\n",
       "    </tr>\n",
       "    <tr>\n",
       "      <th>1</th>\n",
       "      <td>general roca</td>\n",
       "      <td>AR</td>\n",
       "      <td>-39.03</td>\n",
       "      <td>-67.58</td>\n",
       "      <td>78.80</td>\n",
       "      <td>9.17</td>\n",
       "      <td>0</td>\n",
       "    </tr>\n",
       "    <tr>\n",
       "      <th>2</th>\n",
       "      <td>acajutla</td>\n",
       "      <td>SV</td>\n",
       "      <td>13.59</td>\n",
       "      <td>-89.83</td>\n",
       "      <td>77.00</td>\n",
       "      <td>3.36</td>\n",
       "      <td>0</td>\n",
       "    </tr>\n",
       "    <tr>\n",
       "      <th>3</th>\n",
       "      <td>narasannapeta</td>\n",
       "      <td>IN</td>\n",
       "      <td>18.42</td>\n",
       "      <td>84.05</td>\n",
       "      <td>70.59</td>\n",
       "      <td>1.07</td>\n",
       "      <td>0</td>\n",
       "    </tr>\n",
       "    <tr>\n",
       "      <th>4</th>\n",
       "      <td>araouane</td>\n",
       "      <td>ML</td>\n",
       "      <td>18.90</td>\n",
       "      <td>-3.53</td>\n",
       "      <td>76.95</td>\n",
       "      <td>8.63</td>\n",
       "      <td>0</td>\n",
       "    </tr>\n",
       "    <tr>\n",
       "      <th>5</th>\n",
       "      <td>akyab</td>\n",
       "      <td>MM</td>\n",
       "      <td>20.15</td>\n",
       "      <td>92.90</td>\n",
       "      <td>70.12</td>\n",
       "      <td>6.64</td>\n",
       "      <td>0</td>\n",
       "    </tr>\n",
       "  </tbody>\n",
       "</table>\n",
       "</div>"
      ],
      "text/plain": [
       "            City Country    Lat    Lng  Max Temp  Wind Speed  Cloudiness\n",
       "0          jerez      GT  14.10 -89.75     77.00        3.36           0\n",
       "1   general roca      AR -39.03 -67.58     78.80        9.17           0\n",
       "2       acajutla      SV  13.59 -89.83     77.00        3.36           0\n",
       "3  narasannapeta      IN  18.42  84.05     70.59        1.07           0\n",
       "4       araouane      ML  18.90  -3.53     76.95        8.63           0\n",
       "5          akyab      MM  20.15  92.90     70.12        6.64           0"
      ]
     },
     "execution_count": 4,
     "metadata": {},
     "output_type": "execute_result"
    }
   ],
   "source": [
    "# Creating DataFrame with Ideal Weather Conditions\n",
    "idealTemp = df.loc[(df['Max Temp'] > 70) & (df['Max Temp'] < 80)]\n",
    "idealTemp_df = idealTemp[['City', 'Country', 'Lat', 'Lng', 'Max Temp']]\n",
    "idealWind = df.loc[df['Wind Speed'] < 10]\n",
    "idealWind_df = idealWind[['City', 'Lat', 'Lng', 'Wind Speed']]\n",
    "idealClouds = df.loc[df['Cloudiness'] == 0]\n",
    "idealCloud_df = idealClouds[['City', 'Lat', 'Lng', 'Cloudiness']]\n",
    "\n",
    "# Merging DataFrames\n",
    "ideal_TempWind_df = pd.merge(idealTemp_df, idealWind_df, on='City', how='inner')\n",
    "ideal_wx_df = pd.merge(ideal_TempWind_df, idealCloud_df, on='City')\n",
    "\n",
    "# Grabbing Columns\n",
    "ideal_wx_df = ideal_wx_df[['City', 'Country', 'Lat', 'Lng', 'Max Temp', 'Wind Speed', 'Cloudiness']]\n",
    "\n",
    "# Creating Hotel DataFrame\n",
    "hotel_df = pd.DataFrame(ideal_wx_df)\n",
    "hotel_df"
   ]
  },
  {
   "cell_type": "raw",
   "metadata": {},
   "source": [
    "### Hotel Map\n",
    "* Store into variable named `hotel_df`.\n",
    "* Add a \"Hotel Name\" column to the DataFrame.\n",
    "* Set parameters to search for hotels with 5000 meters.\n",
    "* Hit the Google Places API for each city's coordinates.\n",
    "* Store the first Hotel result into the DataFrame.\n",
    "* Plot markers on top of the heatmap."
   ]
  },
  {
   "cell_type": "code",
   "execution_count": 5,
   "metadata": {},
   "outputs": [
    {
     "name": "stdout",
     "output_type": "stream",
     "text": [
      "Missing field/result... skipping.\n",
      "Closest hotel is Hotel Bristol.\n",
      "Closest hotel is Villavela Hotel Boutique.\n",
      "Closest hotel is SPR Grand Hotel.\n",
      "Missing field/result... skipping.\n",
      "Closest hotel is Yuzana Aung Hotel.\n"
     ]
    }
   ],
   "source": [
    "# Creating New Columns to Hold Hotel Names\n",
    "hotel_df['Hotel Name'] = \"\"\n",
    "\n",
    "# Base URL\n",
    "base_url = \"https://maps.googleapis.com/maps/api/place/nearbysearch/json?\"\n",
    "\n",
    "# Parameters\n",
    "target_type = 'hotel'\n",
    "target_radius = 5000\n",
    "\n",
    "# For Loop to Iterate through DataFrame\n",
    "for index, row in hotel_df.iterrows():\n",
    "    \n",
    "    # Getting Lat and Lng from DataFrame\n",
    "    lat = row['Lat']\n",
    "    lng = row['Lng']\n",
    "    \n",
    "    # Creating Location Parameter\n",
    "    location = f'{lat},{lng}'\n",
    "    \n",
    "    # Building URL and Making Requests\n",
    "    response = requests.get(f'{base_url}location={location}&keyword={target_type}&radius={target_radius}&key={g_key}').json()\n",
    "    \n",
    "    # Extract Results\n",
    "    results = response['results']\n",
    "    \n",
    "    # Try to Get Information if Available\n",
    "    try:\n",
    "        print(f\"Closest hotel is {results[0]['name']}.\")\n",
    "        \n",
    "        hotel_df.loc[index, 'Hotel Name'] = results[0]['name']\n",
    "\n",
    "    except IndexError:\n",
    "        print(\"Missing field/result... skipping.\")\n",
    "        \n",
    "        # If Not Available, Set to NaN\n",
    "        hotel_df.loc[index, 'Hotel Name'] = np.nan"
   ]
  },
  {
   "cell_type": "code",
   "execution_count": 6,
   "metadata": {},
   "outputs": [
    {
     "data": {
      "text/html": [
       "<div>\n",
       "<style scoped>\n",
       "    .dataframe tbody tr th:only-of-type {\n",
       "        vertical-align: middle;\n",
       "    }\n",
       "\n",
       "    .dataframe tbody tr th {\n",
       "        vertical-align: top;\n",
       "    }\n",
       "\n",
       "    .dataframe thead th {\n",
       "        text-align: right;\n",
       "    }\n",
       "</style>\n",
       "<table border=\"1\" class=\"dataframe\">\n",
       "  <thead>\n",
       "    <tr style=\"text-align: right;\">\n",
       "      <th></th>\n",
       "      <th>City</th>\n",
       "      <th>Country</th>\n",
       "      <th>Lat</th>\n",
       "      <th>Lng</th>\n",
       "      <th>Max Temp</th>\n",
       "      <th>Wind Speed</th>\n",
       "      <th>Cloudiness</th>\n",
       "      <th>Hotel Name</th>\n",
       "    </tr>\n",
       "  </thead>\n",
       "  <tbody>\n",
       "    <tr>\n",
       "      <th>1</th>\n",
       "      <td>general roca</td>\n",
       "      <td>AR</td>\n",
       "      <td>-39.03</td>\n",
       "      <td>-67.58</td>\n",
       "      <td>78.80</td>\n",
       "      <td>9.17</td>\n",
       "      <td>0</td>\n",
       "      <td>Hotel Bristol</td>\n",
       "    </tr>\n",
       "    <tr>\n",
       "      <th>2</th>\n",
       "      <td>acajutla</td>\n",
       "      <td>SV</td>\n",
       "      <td>13.59</td>\n",
       "      <td>-89.83</td>\n",
       "      <td>77.00</td>\n",
       "      <td>3.36</td>\n",
       "      <td>0</td>\n",
       "      <td>Villavela Hotel Boutique</td>\n",
       "    </tr>\n",
       "    <tr>\n",
       "      <th>3</th>\n",
       "      <td>narasannapeta</td>\n",
       "      <td>IN</td>\n",
       "      <td>18.42</td>\n",
       "      <td>84.05</td>\n",
       "      <td>70.59</td>\n",
       "      <td>1.07</td>\n",
       "      <td>0</td>\n",
       "      <td>SPR Grand Hotel</td>\n",
       "    </tr>\n",
       "    <tr>\n",
       "      <th>5</th>\n",
       "      <td>akyab</td>\n",
       "      <td>MM</td>\n",
       "      <td>20.15</td>\n",
       "      <td>92.90</td>\n",
       "      <td>70.12</td>\n",
       "      <td>6.64</td>\n",
       "      <td>0</td>\n",
       "      <td>Yuzana Aung Hotel</td>\n",
       "    </tr>\n",
       "  </tbody>\n",
       "</table>\n",
       "</div>"
      ],
      "text/plain": [
       "            City Country    Lat    Lng  Max Temp  Wind Speed  Cloudiness  \\\n",
       "1   general roca      AR -39.03 -67.58     78.80        9.17           0   \n",
       "2       acajutla      SV  13.59 -89.83     77.00        3.36           0   \n",
       "3  narasannapeta      IN  18.42  84.05     70.59        1.07           0   \n",
       "5          akyab      MM  20.15  92.90     70.12        6.64           0   \n",
       "\n",
       "                 Hotel Name  \n",
       "1             Hotel Bristol  \n",
       "2  Villavela Hotel Boutique  \n",
       "3           SPR Grand Hotel  \n",
       "5         Yuzana Aung Hotel  "
      ]
     },
     "execution_count": 6,
     "metadata": {},
     "output_type": "execute_result"
    }
   ],
   "source": [
    "# Dropping NaN Values\n",
    "hotel_df.dropna(axis=0, how='any', inplace=True)\n",
    "\n",
    "hotel_df"
   ]
  },
  {
   "cell_type": "code",
   "execution_count": 7,
   "metadata": {
    "scrolled": true
   },
   "outputs": [
    {
     "data": {
      "application/vnd.jupyter.widget-view+json": {
       "model_id": "83061b5ea7804f1bb877547f2652dd55",
       "version_major": 2,
       "version_minor": 0
      },
      "text/plain": [
       "Figure(layout=FigureLayout(height='420px'))"
      ]
     },
     "metadata": {},
     "output_type": "display_data"
    }
   ],
   "source": [
    "# Creating Hotel Name List\n",
    "hotel_name = hotel_df['Hotel Name'].tolist()\n",
    "\n",
    "# Setting Marker Locations\n",
    "marker_locations = hotel_df[['Lat','Lng']]\n",
    "\n",
    "# Plotting Map\n",
    "fig = gmaps.figure()\n",
    "\n",
    "# Creating Markers with Hotel Location and Name\n",
    "markers = gmaps.marker_layer(marker_locations, \n",
    "                             info_box_content=[f'Hotel: {row}' for row in hotel_name])\n",
    "\n",
    "# Overlaying Markers on HeatMap\n",
    "fig.add_layer(heat_layer)\n",
    "fig.add_layer(markers)\n",
    "\n",
    "# Mapping Figure\n",
    "fig"
   ]
  },
  {
   "cell_type": "code",
   "execution_count": 8,
   "metadata": {},
   "outputs": [],
   "source": [
    "# NOTE: Do not change any of the code in this cell\n",
    "\n",
    "# Using the template add the hotel marks to the heatmap\n",
    "info_box_template = \"\"\"\n",
    "<dl>\n",
    "<dt>Name</dt><dd>{Hotel Name}</dd>\n",
    "<dt>City</dt><dd>{City}</dd>\n",
    "<dt>Country</dt><dd>{Country}</dd>\n",
    "</dl>\n",
    "\"\"\"\n",
    "# Store the DataFrame Row\n",
    "# NOTE: be sure to update with your DataFrame name\n",
    "hotel_info = [info_box_template.format(**row) for index, row in hotel_df.iterrows()]\n",
    "locations = hotel_df[[\"Lat\", \"Lng\"]]"
   ]
  },
  {
   "cell_type": "code",
   "execution_count": 9,
   "metadata": {},
   "outputs": [
    {
     "data": {
      "application/vnd.jupyter.widget-view+json": {
       "model_id": "fe3db47b56fd4a1c8306a17aebcdeab5",
       "version_major": 2,
       "version_minor": 0
      },
      "text/plain": [
       "Figure(layout=FigureLayout(height='420px'))"
      ]
     },
     "metadata": {},
     "output_type": "display_data"
    }
   ],
   "source": [
    "# Display figure\n",
    "fig = gmaps.figure()\n",
    "markers = gmaps.marker_layer(locations, \n",
    "                             info_box_content=hotel_info)\n",
    "fig.add_layer(heat_layer)\n",
    "fig.add_layer(markers)\n",
    "fig"
   ]
  },
  {
   "cell_type": "code",
   "execution_count": null,
   "metadata": {},
   "outputs": [],
   "source": []
  }
 ],
 "metadata": {
  "kernelspec": {
   "display_name": "MyPythonEnv",
   "language": "python",
   "name": "mypythonenv"
  },
  "language_info": {
   "codemirror_mode": {
    "name": "ipython",
    "version": 3
   },
   "file_extension": ".py",
   "mimetype": "text/x-python",
   "name": "python",
   "nbconvert_exporter": "python",
   "pygments_lexer": "ipython3",
   "version": "3.8.3"
  },
  "latex_envs": {
   "LaTeX_envs_menu_present": true,
   "autoclose": false,
   "autocomplete": true,
   "bibliofile": "biblio.bib",
   "cite_by": "apalike",
   "current_citInitial": 1,
   "eqLabelWithNumbers": true,
   "eqNumInitial": 1,
   "hotkeys": {
    "equation": "Ctrl-E",
    "itemize": "Ctrl-I"
   },
   "labels_anchors": false,
   "latex_user_defs": false,
   "report_style_numbering": false,
   "user_envs_cfg": false
  }
 },
 "nbformat": 4,
 "nbformat_minor": 4
}

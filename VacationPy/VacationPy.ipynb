{
 "cells": [
  {
   "cell_type": "markdown",
   "metadata": {},
   "source": [
    "# VacationPy\n",
    "----\n",
    "\n",
    "#### Note\n",
    "* Keep an eye on your API usage. Use https://developers.google.com/maps/reporting/gmp-reporting as reference for how to monitor your usage and billing.\n",
    "\n",
    "* Instructions have been included for each segment. You do not have to follow them exactly, but they are included to help you think through the steps."
   ]
  },
  {
   "cell_type": "code",
   "execution_count": 1,
   "metadata": {},
   "outputs": [],
   "source": [
    "# Dependencies and Setup\n",
    "import matplotlib.pyplot as plt\n",
    "import pandas as pd\n",
    "import numpy as np\n",
    "import requests\n",
    "import json\n",
    "import gmaps\n",
    "import os\n",
    "\n",
    "# Import API key\n",
    "from api_keys import g_key"
   ]
  },
  {
   "cell_type": "markdown",
   "metadata": {},
   "source": [
    "### Store Part I results into DataFrame\n",
    "* Load the csv exported in Part I to a DataFrame"
   ]
  },
  {
   "cell_type": "code",
   "execution_count": 2,
   "metadata": {},
   "outputs": [
    {
     "data": {
      "text/html": [
       "<div>\n",
       "<style scoped>\n",
       "    .dataframe tbody tr th:only-of-type {\n",
       "        vertical-align: middle;\n",
       "    }\n",
       "\n",
       "    .dataframe tbody tr th {\n",
       "        vertical-align: top;\n",
       "    }\n",
       "\n",
       "    .dataframe thead th {\n",
       "        text-align: right;\n",
       "    }\n",
       "</style>\n",
       "<table border=\"1\" class=\"dataframe\">\n",
       "  <thead>\n",
       "    <tr style=\"text-align: right;\">\n",
       "      <th></th>\n",
       "      <th>City</th>\n",
       "      <th>Lat</th>\n",
       "      <th>Lng</th>\n",
       "      <th>Max Temp</th>\n",
       "      <th>Humidity</th>\n",
       "      <th>Cloudiness</th>\n",
       "      <th>Wind Speed</th>\n",
       "      <th>Country</th>\n",
       "      <th>Date</th>\n",
       "    </tr>\n",
       "  </thead>\n",
       "  <tbody>\n",
       "    <tr>\n",
       "      <th>0</th>\n",
       "      <td>yellowknife</td>\n",
       "      <td>62.46</td>\n",
       "      <td>-114.35</td>\n",
       "      <td>18.00</td>\n",
       "      <td>92</td>\n",
       "      <td>75</td>\n",
       "      <td>10.29</td>\n",
       "      <td>CA</td>\n",
       "      <td>1607376601</td>\n",
       "    </tr>\n",
       "    <tr>\n",
       "      <th>1</th>\n",
       "      <td>narsaq</td>\n",
       "      <td>60.92</td>\n",
       "      <td>-46.05</td>\n",
       "      <td>21.20</td>\n",
       "      <td>53</td>\n",
       "      <td>40</td>\n",
       "      <td>3.36</td>\n",
       "      <td>GL</td>\n",
       "      <td>1607376586</td>\n",
       "    </tr>\n",
       "    <tr>\n",
       "      <th>2</th>\n",
       "      <td>leningradskiy</td>\n",
       "      <td>69.38</td>\n",
       "      <td>178.42</td>\n",
       "      <td>7.68</td>\n",
       "      <td>86</td>\n",
       "      <td>69</td>\n",
       "      <td>3.74</td>\n",
       "      <td>RU</td>\n",
       "      <td>1607376820</td>\n",
       "    </tr>\n",
       "    <tr>\n",
       "      <th>3</th>\n",
       "      <td>ushuaia</td>\n",
       "      <td>-54.80</td>\n",
       "      <td>-68.30</td>\n",
       "      <td>50.00</td>\n",
       "      <td>76</td>\n",
       "      <td>75</td>\n",
       "      <td>13.87</td>\n",
       "      <td>AR</td>\n",
       "      <td>1607376491</td>\n",
       "    </tr>\n",
       "    <tr>\n",
       "      <th>4</th>\n",
       "      <td>castro</td>\n",
       "      <td>-24.79</td>\n",
       "      <td>-50.01</td>\n",
       "      <td>66.31</td>\n",
       "      <td>93</td>\n",
       "      <td>76</td>\n",
       "      <td>5.44</td>\n",
       "      <td>BR</td>\n",
       "      <td>1607376571</td>\n",
       "    </tr>\n",
       "  </tbody>\n",
       "</table>\n",
       "</div>"
      ],
      "text/plain": [
       "            City    Lat     Lng  Max Temp  Humidity  Cloudiness  Wind Speed  \\\n",
       "0    yellowknife  62.46 -114.35     18.00        92          75       10.29   \n",
       "1         narsaq  60.92  -46.05     21.20        53          40        3.36   \n",
       "2  leningradskiy  69.38  178.42      7.68        86          69        3.74   \n",
       "3        ushuaia -54.80  -68.30     50.00        76          75       13.87   \n",
       "4         castro -24.79  -50.01     66.31        93          76        5.44   \n",
       "\n",
       "  Country        Date  \n",
       "0      CA  1607376601  \n",
       "1      GL  1607376586  \n",
       "2      RU  1607376820  \n",
       "3      AR  1607376491  \n",
       "4      BR  1607376571  "
      ]
     },
     "execution_count": 2,
     "metadata": {},
     "output_type": "execute_result"
    }
   ],
   "source": [
    "filepath = '../output_data/cities.csv'\n",
    "f = pd.read_csv(filepath)\n",
    "df = pd.DataFrame(f)\n",
    "df = df.drop(columns=['Unnamed: 0'])\n",
    "\n",
    "df.head()"
   ]
  },
  {
   "cell_type": "markdown",
   "metadata": {},
   "source": [
    "### Humidity Heatmap\n",
    "* Configure gmaps.\n",
    "* Use the Lat and Lng as locations and Humidity as the weight.\n",
    "* Add Heatmap layer to map."
   ]
  },
  {
   "cell_type": "code",
   "execution_count": 3,
   "metadata": {},
   "outputs": [
    {
     "data": {
      "application/vnd.jupyter.widget-view+json": {
       "model_id": "501909eb9aa54924bda5d8865afc57f1",
       "version_major": 2,
       "version_minor": 0
      },
      "text/plain": [
       "Figure(layout=FigureLayout(height='420px'))"
      ]
     },
     "metadata": {},
     "output_type": "display_data"
    }
   ],
   "source": [
    "gmaps.configure(api_key=g_key)\n",
    "locations = df[[\"Lat\", \"Lng\"]].astype(float)\n",
    "humidity_map = df[\"Humidity\"].astype(float)\n",
    "\n",
    "fig = gmaps.figure()\n",
    "\n",
    "heat_layer = gmaps.heatmap_layer(locations, weights=humidity_map, \n",
    "                                 dissipating=False, max_intensity=100,\n",
    "                                 point_radius = 1)\n",
    "\n",
    "fig.add_layer(heat_layer)\n",
    "\n",
    "fig"
   ]
  },
  {
   "cell_type": "code",
   "execution_count": null,
   "metadata": {},
   "outputs": [],
   "source": []
  },
  {
   "cell_type": "markdown",
   "metadata": {},
   "source": [
    "### Create new DataFrame fitting weather criteria\n",
    "* Narrow down the cities to fit weather conditions.\n",
    "* Drop any rows will null values."
   ]
  },
  {
   "cell_type": "code",
   "execution_count": 4,
   "metadata": {
    "scrolled": true
   },
   "outputs": [
    {
     "data": {
      "text/html": [
       "<div>\n",
       "<style scoped>\n",
       "    .dataframe tbody tr th:only-of-type {\n",
       "        vertical-align: middle;\n",
       "    }\n",
       "\n",
       "    .dataframe tbody tr th {\n",
       "        vertical-align: top;\n",
       "    }\n",
       "\n",
       "    .dataframe thead th {\n",
       "        text-align: right;\n",
       "    }\n",
       "</style>\n",
       "<table border=\"1\" class=\"dataframe\">\n",
       "  <thead>\n",
       "    <tr style=\"text-align: right;\">\n",
       "      <th></th>\n",
       "      <th>City</th>\n",
       "      <th>Country</th>\n",
       "      <th>Lat</th>\n",
       "      <th>Lng</th>\n",
       "      <th>Max Temp</th>\n",
       "      <th>Wind Speed</th>\n",
       "      <th>Cloudiness</th>\n",
       "    </tr>\n",
       "  </thead>\n",
       "  <tbody>\n",
       "    <tr>\n",
       "      <th>0</th>\n",
       "      <td>guerrero negro</td>\n",
       "      <td>MX</td>\n",
       "      <td>27.98</td>\n",
       "      <td>-114.06</td>\n",
       "      <td>76.62</td>\n",
       "      <td>4.36</td>\n",
       "      <td>0</td>\n",
       "    </tr>\n",
       "    <tr>\n",
       "      <th>1</th>\n",
       "      <td>ler</td>\n",
       "      <td>SS</td>\n",
       "      <td>8.30</td>\n",
       "      <td>30.14</td>\n",
       "      <td>79.99</td>\n",
       "      <td>5.86</td>\n",
       "      <td>0</td>\n",
       "    </tr>\n",
       "    <tr>\n",
       "      <th>2</th>\n",
       "      <td>saint-philippe</td>\n",
       "      <td>RE</td>\n",
       "      <td>-21.36</td>\n",
       "      <td>55.77</td>\n",
       "      <td>75.20</td>\n",
       "      <td>4.70</td>\n",
       "      <td>0</td>\n",
       "    </tr>\n",
       "    <tr>\n",
       "      <th>3</th>\n",
       "      <td>keti bandar</td>\n",
       "      <td>PK</td>\n",
       "      <td>24.14</td>\n",
       "      <td>67.45</td>\n",
       "      <td>72.77</td>\n",
       "      <td>6.35</td>\n",
       "      <td>0</td>\n",
       "    </tr>\n",
       "    <tr>\n",
       "      <th>4</th>\n",
       "      <td>maceio</td>\n",
       "      <td>BR</td>\n",
       "      <td>-9.67</td>\n",
       "      <td>-35.74</td>\n",
       "      <td>75.20</td>\n",
       "      <td>5.82</td>\n",
       "      <td>0</td>\n",
       "    </tr>\n",
       "    <tr>\n",
       "      <th>5</th>\n",
       "      <td>chokwe</td>\n",
       "      <td>MZ</td>\n",
       "      <td>-24.53</td>\n",
       "      <td>32.98</td>\n",
       "      <td>70.56</td>\n",
       "      <td>5.08</td>\n",
       "      <td>0</td>\n",
       "    </tr>\n",
       "    <tr>\n",
       "      <th>6</th>\n",
       "      <td>saint-leu</td>\n",
       "      <td>RE</td>\n",
       "      <td>-21.15</td>\n",
       "      <td>55.28</td>\n",
       "      <td>75.20</td>\n",
       "      <td>5.82</td>\n",
       "      <td>0</td>\n",
       "    </tr>\n",
       "    <tr>\n",
       "      <th>7</th>\n",
       "      <td>muscat</td>\n",
       "      <td>OM</td>\n",
       "      <td>23.61</td>\n",
       "      <td>58.59</td>\n",
       "      <td>75.20</td>\n",
       "      <td>1.12</td>\n",
       "      <td>0</td>\n",
       "    </tr>\n",
       "    <tr>\n",
       "      <th>8</th>\n",
       "      <td>vallenar</td>\n",
       "      <td>CL</td>\n",
       "      <td>-28.57</td>\n",
       "      <td>-70.76</td>\n",
       "      <td>79.70</td>\n",
       "      <td>8.23</td>\n",
       "      <td>0</td>\n",
       "    </tr>\n",
       "    <tr>\n",
       "      <th>9</th>\n",
       "      <td>tijara</td>\n",
       "      <td>IN</td>\n",
       "      <td>27.93</td>\n",
       "      <td>76.85</td>\n",
       "      <td>71.01</td>\n",
       "      <td>1.79</td>\n",
       "      <td>0</td>\n",
       "    </tr>\n",
       "    <tr>\n",
       "      <th>10</th>\n",
       "      <td>itapora</td>\n",
       "      <td>BR</td>\n",
       "      <td>-22.08</td>\n",
       "      <td>-54.79</td>\n",
       "      <td>77.41</td>\n",
       "      <td>5.01</td>\n",
       "      <td>0</td>\n",
       "    </tr>\n",
       "    <tr>\n",
       "      <th>11</th>\n",
       "      <td>safaga</td>\n",
       "      <td>EG</td>\n",
       "      <td>26.73</td>\n",
       "      <td>33.94</td>\n",
       "      <td>73.40</td>\n",
       "      <td>5.82</td>\n",
       "      <td>0</td>\n",
       "    </tr>\n",
       "    <tr>\n",
       "      <th>12</th>\n",
       "      <td>boffa</td>\n",
       "      <td>GN</td>\n",
       "      <td>10.17</td>\n",
       "      <td>-14.03</td>\n",
       "      <td>78.21</td>\n",
       "      <td>3.44</td>\n",
       "      <td>0</td>\n",
       "    </tr>\n",
       "    <tr>\n",
       "      <th>13</th>\n",
       "      <td>batticaloa</td>\n",
       "      <td>LK</td>\n",
       "      <td>7.71</td>\n",
       "      <td>81.69</td>\n",
       "      <td>77.45</td>\n",
       "      <td>2.89</td>\n",
       "      <td>0</td>\n",
       "    </tr>\n",
       "    <tr>\n",
       "      <th>14</th>\n",
       "      <td>saint-pierre</td>\n",
       "      <td>RE</td>\n",
       "      <td>-21.34</td>\n",
       "      <td>55.48</td>\n",
       "      <td>75.20</td>\n",
       "      <td>5.82</td>\n",
       "      <td>0</td>\n",
       "    </tr>\n",
       "  </tbody>\n",
       "</table>\n",
       "</div>"
      ],
      "text/plain": [
       "              City Country    Lat     Lng  Max Temp  Wind Speed  Cloudiness\n",
       "0   guerrero negro      MX  27.98 -114.06     76.62        4.36           0\n",
       "1              ler      SS   8.30   30.14     79.99        5.86           0\n",
       "2   saint-philippe      RE -21.36   55.77     75.20        4.70           0\n",
       "3      keti bandar      PK  24.14   67.45     72.77        6.35           0\n",
       "4           maceio      BR  -9.67  -35.74     75.20        5.82           0\n",
       "5           chokwe      MZ -24.53   32.98     70.56        5.08           0\n",
       "6        saint-leu      RE -21.15   55.28     75.20        5.82           0\n",
       "7           muscat      OM  23.61   58.59     75.20        1.12           0\n",
       "8         vallenar      CL -28.57  -70.76     79.70        8.23           0\n",
       "9           tijara      IN  27.93   76.85     71.01        1.79           0\n",
       "10         itapora      BR -22.08  -54.79     77.41        5.01           0\n",
       "11          safaga      EG  26.73   33.94     73.40        5.82           0\n",
       "12           boffa      GN  10.17  -14.03     78.21        3.44           0\n",
       "13      batticaloa      LK   7.71   81.69     77.45        2.89           0\n",
       "14    saint-pierre      RE -21.34   55.48     75.20        5.82           0"
      ]
     },
     "execution_count": 4,
     "metadata": {},
     "output_type": "execute_result"
    }
   ],
   "source": [
    "idealTemp = df.loc[(df['Max Temp'] > 70) & (df['Max Temp'] < 80)]\n",
    "idealTemp_df = idealTemp[['City', 'Country', 'Lat', 'Lng', 'Max Temp']]\n",
    "idealWind = df.loc[df['Wind Speed'] < 10]\n",
    "idealWind_df = idealWind[['City', 'Lat', 'Lng', 'Wind Speed']]\n",
    "idealClouds = df.loc[df['Cloudiness'] == 0]\n",
    "idealCloud_df = idealClouds[['City', 'Lat', 'Lng', 'Cloudiness']]\n",
    "\n",
    "ideal_TempWind_df = pd.merge(idealTemp_df, idealWind_df, on='City', how='inner')\n",
    "ideal_wx_df = pd.merge(ideal_TempWind_df, idealCloud_df, on='City')\n",
    "\n",
    "ideal_wx_df = ideal_wx_df[['City', 'Country', 'Lat', 'Lng', 'Max Temp', 'Wind Speed', 'Cloudiness']]\n",
    "\n",
    "hotel_df = pd.DataFrame(ideal_wx_df)\n",
    "hotel_df"
   ]
  },
  {
   "cell_type": "raw",
   "metadata": {},
   "source": [
    "### Hotel Map\n",
    "* Store into variable named `hotel_df`.\n",
    "* Add a \"Hotel Name\" column to the DataFrame.\n",
    "* Set parameters to search for hotels with 5000 meters.\n",
    "* Hit the Google Places API for each city's coordinates.\n",
    "* Store the first Hotel result into the DataFrame.\n",
    "* Plot markers on top of the heatmap."
   ]
  },
  {
   "cell_type": "code",
   "execution_count": 5,
   "metadata": {},
   "outputs": [
    {
     "name": "stdout",
     "output_type": "stream",
     "text": [
      "Closest hotel is The Halfway Inn.\n",
      "Missing field/result... skipping.\n",
      "Closest hotel is Les Embruns Du Baril.\n",
      "Missing field/result... skipping.\n",
      "Closest hotel is Jatiúca Hotel & Resort.\n",
      "Closest hotel is Hotel Sorriso de Caridade.\n",
      "Closest hotel is Iloha Seaview Hotel.\n",
      "Closest hotel is Al Bustan Palace, A Ritz-Carlton Hotel.\n",
      "Closest hotel is Hotel Cecil.\n",
      "Closest hotel is Tijara Fort-Palace - 19th Century, Alwar.\n",
      "Closest hotel is Hotel Santa Fé.\n",
      "Closest hotel is Lamar Resort Abu Soma.\n",
      "Closest hotel is Hôtel Niara Belly.\n",
      "Closest hotel is Hotel East Lagoon.\n",
      "Closest hotel is Le Battant Des Lames.\n"
     ]
    }
   ],
   "source": [
    "hotel_df['Hotel Name'] = \"\"\n",
    "\n",
    "base_url = \"https://maps.googleapis.com/maps/api/place/nearbysearch/json?\"\n",
    "\n",
    "target_type = 'hotel'\n",
    "target_radius = 5000\n",
    "\n",
    "for index, row in hotel_df.iterrows():\n",
    "    lat = row['Lat']\n",
    "    lng = row['Lng']\n",
    "    location = f'{lat},{lng}'\n",
    "    \n",
    "    response = requests.get(f'{base_url}location={location}&keyword={target_type}&radius={target_radius}&key={g_key}').json()\n",
    "    results = response['results']\n",
    "    \n",
    "    try:\n",
    "        print(f\"Closest hotel is {results[0]['name']}.\")\n",
    "        \n",
    "        hotel_df.loc[index, 'Hotel Name'] = results[0]['name']\n",
    "\n",
    "    except IndexError:\n",
    "        print(\"Missing field/result... skipping.\")\n",
    "        hotel_df.loc[index, 'Hotel Name'] = np.nan"
   ]
  },
  {
   "cell_type": "code",
   "execution_count": 6,
   "metadata": {},
   "outputs": [],
   "source": [
    "hotel_df.dropna(axis=0, how='any', inplace=True)"
   ]
  },
  {
   "cell_type": "code",
   "execution_count": 7,
   "metadata": {
    "scrolled": true
   },
   "outputs": [
    {
     "data": {
      "application/vnd.jupyter.widget-view+json": {
       "model_id": "65eac8951b77441fb70681c7aa3caf06",
       "version_major": 2,
       "version_minor": 0
      },
      "text/plain": [
       "Figure(layout=FigureLayout(height='420px'))"
      ]
     },
     "metadata": {},
     "output_type": "display_data"
    }
   ],
   "source": [
    "hotel_name = hotel_df['Hotel Name'].tolist()\n",
    "\n",
    "marker_locations = hotel_df[['Lat','Lng']]\n",
    "\n",
    "fig = gmaps.figure()\n",
    "markers = gmaps.marker_layer(marker_locations, \n",
    "                             info_box_content=[f'Hotel: {row}' for row in hotel_name])\n",
    "fig.add_layer(heat_layer)\n",
    "fig.add_layer(markers)\n",
    "fig"
   ]
  },
  {
   "cell_type": "code",
   "execution_count": 10,
   "metadata": {},
   "outputs": [],
   "source": [
    "# NOTE: Do not change any of the code in this cell\n",
    "\n",
    "# Using the template add the hotel marks to the heatmap\n",
    "info_box_template = \"\"\"\n",
    "<dl>\n",
    "<dt>Name</dt><dd>{Hotel Name}</dd>\n",
    "<dt>City</dt><dd>{City}</dd>\n",
    "<dt>Country</dt><dd>{Country}</dd>\n",
    "</dl>\n",
    "\"\"\"\n",
    "# Store the DataFrame Row\n",
    "# NOTE: be sure to update with your DataFrame name\n",
    "hotel_info = [info_box_template.format(**row) for index, row in hotel_df.iterrows()]\n",
    "locations = hotel_df[[\"Lat\", \"Lng\"]]"
   ]
  },
  {
   "cell_type": "code",
   "execution_count": 12,
   "metadata": {},
   "outputs": [
    {
     "data": {
      "application/vnd.jupyter.widget-view+json": {
       "model_id": "ac9f41ea994a4dc296d6351c4c4988c7",
       "version_major": 2,
       "version_minor": 0
      },
      "text/plain": [
       "Figure(layout=FigureLayout(height='420px'))"
      ]
     },
     "metadata": {},
     "output_type": "display_data"
    }
   ],
   "source": [
    "# Display figure\n",
    "fig = gmaps.figure()\n",
    "markers = gmaps.marker_layer(locations, \n",
    "                             info_box_content=hotel_info)\n",
    "fig.add_layer(heat_layer)\n",
    "fig.add_layer(markers)\n",
    "fig"
   ]
  },
  {
   "cell_type": "code",
   "execution_count": null,
   "metadata": {},
   "outputs": [],
   "source": []
  }
 ],
 "metadata": {
  "kernelspec": {
   "display_name": "MyPythonEnv",
   "language": "python",
   "name": "mypythonenv"
  },
  "language_info": {
   "codemirror_mode": {
    "name": "ipython",
    "version": 3
   },
   "file_extension": ".py",
   "mimetype": "text/x-python",
   "name": "python",
   "nbconvert_exporter": "python",
   "pygments_lexer": "ipython3",
   "version": "3.8.3"
  },
  "latex_envs": {
   "LaTeX_envs_menu_present": true,
   "autoclose": false,
   "autocomplete": true,
   "bibliofile": "biblio.bib",
   "cite_by": "apalike",
   "current_citInitial": 1,
   "eqLabelWithNumbers": true,
   "eqNumInitial": 1,
   "hotkeys": {
    "equation": "Ctrl-E",
    "itemize": "Ctrl-I"
   },
   "labels_anchors": false,
   "latex_user_defs": false,
   "report_style_numbering": false,
   "user_envs_cfg": false
  }
 },
 "nbformat": 4,
 "nbformat_minor": 4
}
